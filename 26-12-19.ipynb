{
 "cells": [
  {
   "cell_type": "code",
   "execution_count": 1,
   "metadata": {},
   "outputs": [
    {
     "name": "stdout",
     "output_type": "stream",
     "text": [
      "enter a number4\n",
      "enter a number3\n",
      "enter a number6\n",
      "6 is larger number\n"
     ]
    }
   ],
   "source": [
    "# FIND LARGE NUMBER FROM THE GIVEN 3 NUMBERS\n",
    "\n",
    "a = int(input(\"enter a number\"))\n",
    "b = int(input(\"enter a number\"))\n",
    "c = int(input(\"enter a number\"))\n",
    "if a>b and a>c:\n",
    "    print(a,\"is larger number\")\n",
    "elif b>a and b>c:\n",
    "    print(a,\"is larger number\")\n",
    "else:\n",
    "    print(c,\"is larger number\")\n",
    "\n",
    "         "
   ]
  },
  {
   "cell_type": "markdown",
   "metadata": {},
   "source": [
    "# While statements:\n",
    "### Syntax:\n",
    "##### While Boolean_condition:<br>\n",
    "           statements<br>\n",
    "           increment / decrement <br>"
   ]
  },
  {
   "cell_type": "code",
   "execution_count": 1,
   "metadata": {},
   "outputs": [
    {
     "name": "stdout",
     "output_type": "stream",
     "text": [
      "gitam\n",
      "gitam\n",
      "gitam\n",
      "gitam\n",
      "gitam\n"
     ]
    }
   ],
   "source": [
    "x = 0\n",
    "while x < 5:\n",
    "    print(\"gitam\")\n",
    "    x= x+1"
   ]
  },
  {
   "cell_type": "code",
   "execution_count": 2,
   "metadata": {},
   "outputs": [
    {
     "name": "stdout",
     "output_type": "stream",
     "text": [
      "gitam\n",
      "gitam\n",
      "gitam\n",
      "gitam\n",
      "gitam\n",
      "gitam\n"
     ]
    }
   ],
   "source": [
    "x = 0\n",
    "while x < 6:\n",
    "    print(\"gitam\")\n",
    "    x= x+1"
   ]
  },
  {
   "cell_type": "code",
   "execution_count": 2,
   "metadata": {},
   "outputs": [
    {
     "name": "stdout",
     "output_type": "stream",
     "text": [
      "enter a natural number10\n",
      "12345678910"
     ]
    }
   ],
   "source": [
    "# print n natural numbers using while loop\n",
    "# input : 10\n",
    "# output : 1 2 3 4 5 6 7 8 9 10\n",
    "n=int(input(\"enter a natural number\"))\n",
    "i=1\n",
    "while i<=n:\n",
    "    print(i,end=\"\")\n",
    "    i= i+1"
   ]
  },
  {
   "cell_type": "code",
   "execution_count": 2,
   "metadata": {},
   "outputs": [
    {
     "name": "stdout",
     "output_type": "stream",
     "text": [
      "enetr a number 10\n",
      "30\n"
     ]
    }
   ],
   "source": [
    "# add only even number 1 to n\n",
    "# input:10\n",
    "#output: 30 (2+4+6+8+10)\n",
    "n=int(input(\"enetr a number\"))\n",
    "i=1\n",
    "sum = 0\n",
    "while i<=n:\n",
    "    if i %2 == 0:\n",
    "        sum=sum+i\n",
    "    i=i+1\n",
    "print(sum)"
   ]
  },
  {
   "cell_type": "code",
   "execution_count": 3,
   "metadata": {},
   "outputs": [
    {
     "name": "stdout",
     "output_type": "stream",
     "text": [
      "enter a number123\n",
      "321"
     ]
    }
   ],
   "source": [
    "#input 123\n",
    "#output 321\n",
    "n=int(input(\"enter a number\"))\n",
    "while n!=0:\n",
    "    r=n%10\n",
    "    print(r,end=\"\")\n",
    "    n=n//10"
   ]
  },
  {
   "cell_type": "markdown",
   "metadata": {},
   "source": [
    "# Functinal programming\n",
    "- simple\n",
    "- easy read\n",
    "- lengthy program divides into sub programs\n"
   ]
  },
  {
   "cell_type": "markdown",
   "metadata": {},
   "source": [
    "# Syntax\n",
    "def nameofthefunction(<parameters>)\n",
    "      statements\n",
    "nameofthefunction()\n"
   ]
  },
  {
   "cell_type": "code",
   "execution_count": 8,
   "metadata": {},
   "outputs": [
    {
     "data": {
      "text/plain": [
       "6"
      ]
     },
     "execution_count": 8,
     "metadata": {},
     "output_type": "execute_result"
    }
   ],
   "source": [
    "#input:1234\n",
    "#output:6(2+4)\n",
    "def addevendigit(n):\n",
    "    sum =0\n",
    "    while n!=0:\n",
    "        r = n%10\n",
    "        if r %2==0:\n",
    "            sum = sum+r\n",
    "        n=n//10\n",
    "    return sum\n",
    "addevendigit(1234)"
   ]
  },
  {
   "cell_type": "code",
   "execution_count": 4,
   "metadata": {},
   "outputs": [
    {
     "data": {
      "text/plain": [
       "9"
      ]
     },
     "execution_count": 4,
     "metadata": {},
     "output_type": "execute_result"
    }
   ],
   "source": [
    "#read input\n",
    "#input : 19528\n",
    "# output:9\n",
    "def largestofall(n):\n",
    "    l=0\n",
    "    while n!=0:\n",
    "        r=n%10\n",
    "        if r>l:\n",
    "            l=r   \n",
    "        n=n//10\n",
    "    return l\n",
    "largestofall(19528)\n",
    "    \n",
    "    \n",
    "           \n"
   ]
  },
  {
   "cell_type": "code",
   "execution_count": 10,
   "metadata": {},
   "outputs": [
    {
     "name": "stdout",
     "output_type": "stream",
     "text": [
      "yes\n",
      "no\n",
      "no\n"
     ]
    }
   ],
   "source": [
    "#input: 123 ---121--yes\n",
    "#       123 ---321---no\n",
    "\n",
    "def ispalindrome(n):\n",
    "    rev = 0\n",
    "    buffer = n\n",
    "    while n!=0:\n",
    "        r =n%10\n",
    "        rev =rev * 10 +r\n",
    "        n=n//10\n",
    "    if buffer == rev:\n",
    "            return\"yes\"\n",
    "    else:\n",
    "            return \"no\"\n",
    "print(ispalindrome(121))\n",
    "print(ispalindrome(123))\n",
    "print(ispalindrome(321))"
   ]
  },
  {
   "cell_type": "code",
   "execution_count": 13,
   "metadata": {},
   "outputs": [
    {
     "name": "stdout",
     "output_type": "stream",
     "text": [
      "1   2   3   4   5   6   7   8   9   10   "
     ]
    }
   ],
   "source": [
    "#function to print n natural numbers\n",
    "def natural(n):\n",
    "    for i in range(1,n+1):\n",
    "        print(i,end=\"   \")\n",
    "natural(10)"
   ]
  },
  {
   "cell_type": "code",
   "execution_count": 16,
   "metadata": {},
   "outputs": [
    {
     "name": "stdout",
     "output_type": "stream",
     "text": [
      "11   12   13   14   15   "
     ]
    }
   ],
   "source": [
    "def natural(n):\n",
    "    for i in range(11,n+1):\n",
    "        print(i,end=\"   \")\n",
    "natural(15)"
   ]
  },
  {
   "cell_type": "code",
   "execution_count": 17,
   "metadata": {},
   "outputs": [
    {
     "name": "stdout",
     "output_type": "stream",
     "text": [
      "11   12   13   14   15   16   17   18   19   20   21   22   23   24   25   "
     ]
    }
   ],
   "source": [
    "def natural(l,b):\n",
    "    for i in range(l,b+1):\n",
    "        print(i,end=\"   \")\n",
    "natural(11,25)"
   ]
  },
  {
   "cell_type": "code",
   "execution_count": 18,
   "metadata": {},
   "outputs": [
    {
     "name": "stdout",
     "output_type": "stream",
     "text": [
      "100   101   102   103   104   105   106   107   108   109   110   "
     ]
    }
   ],
   "source": [
    "def natural(n):\n",
    "    for i in range(100,n+1):\n",
    "        print(i,end=\"   \")\n",
    "natural(110)"
   ]
  },
  {
   "cell_type": "code",
   "execution_count": 21,
   "metadata": {},
   "outputs": [
    {
     "name": "stdout",
     "output_type": "stream",
     "text": [
      "1   5   9   "
     ]
    }
   ],
   "source": [
    "def natural(l,b):\n",
    "    for i in range(l,b+1,4):\n",
    "        print(i,end=\"   \")\n",
    "natural(1,10)"
   ]
  },
  {
   "cell_type": "code",
   "execution_count": 31,
   "metadata": {},
   "outputs": [
    {
     "name": "stdout",
     "output_type": "stream",
     "text": [
      "10  9  8  7  6  5  4  3  2  1  "
     ]
    }
   ],
   "source": [
    "#using function\n",
    "#input: 1,10\n",
    "#output: 10,9,8,7,6,5,4,3,2,1\n",
    "def reverserange(start,end):\n",
    "    for i in range(end,start-1,-1):\n",
    "        print(i,end=\"  \")\n",
    "\n",
    "reverserange(1,10)\n",
    "#output: 10 9 8 7 6 5 4 3 2 1"
   ]
  },
  {
   "cell_type": "markdown",
   "metadata": {},
   "source": [
    "# Data structures\n",
    "- list\n",
    "- tuple\n",
    "- dictionary"
   ]
  },
  {
   "cell_type": "markdown",
   "metadata": {},
   "source": [
    "# List:\n",
    "- its one common data structure in python, the items are seperated by comma and enclosed by []\n",
    "- crud operations\n",
    "* c -create \n",
    "* r -read\n",
    "* u -update\n",
    "* d -delete\n",
    "- list can be changed or immutable\n",
    "\n",
    "# Example:\n",
    "- list =[1,2,3,4]"
   ]
  },
  {
   "cell_type": "code",
   "execution_count": 35,
   "metadata": {},
   "outputs": [
    {
     "name": "stdout",
     "output_type": "stream",
     "text": [
      "[1, 2, 3, 4, 5]\n",
      "1\n",
      "4\n",
      "2\n"
     ]
    }
   ],
   "source": [
    "li = [1,2,3,4,5]\n",
    "print(li)\n",
    "print(li[0])\n",
    "print(li[3])\n",
    "print(li[-4])\n"
   ]
  },
  {
   "cell_type": "code",
   "execution_count": null,
   "metadata": {},
   "outputs": [],
   "source": []
  }
 ],
 "metadata": {
  "kernelspec": {
   "display_name": "Python 3",
   "language": "python",
   "name": "python3"
  },
  "language_info": {
   "codemirror_mode": {
    "name": "ipython",
    "version": 3
   },
   "file_extension": ".py",
   "mimetype": "text/x-python",
   "name": "python",
   "nbconvert_exporter": "python",
   "pygments_lexer": "ipython3",
   "version": "3.7.0"
  }
 },
 "nbformat": 4,
 "nbformat_minor": 2
}
