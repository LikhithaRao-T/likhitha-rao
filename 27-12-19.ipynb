{
 "cells": [
  {
   "cell_type": "code",
   "execution_count": 32,
   "metadata": {},
   "outputs": [
    {
     "name": "stdout",
     "output_type": "stream",
     "text": [
      "['gitam', 123, 124, 1323, 1245, 3451]\n",
      "1323\n",
      "[1323, 1245, 3451]\n",
      "[3451, 1245, 1323, 124, 123, 'gitam']\n",
      "[3451, 1245, 1323, 124, 123, 'gitam']\n",
      "[124, 1323, 1245]\n",
      "[124, 1323]\n"
     ]
    }
   ],
   "source": [
    "li =[\"gitam\",123,124,1323,1245,3451]\n",
    "print(li)\n",
    "print(li[3])\n",
    "print(li[3:])\n",
    "print(li[::-1])\n",
    "print(li[-1::-1])\n",
    "print(li[2:5])\n",
    "print(li[2:4])"
   ]
  },
  {
   "cell_type": "code",
   "execution_count": 2,
   "metadata": {},
   "outputs": [
    {
     "name": "stdout",
     "output_type": "stream",
     "text": [
      "['likta', 123, 124, 1323, 1245, 3451]\n"
     ]
    }
   ],
   "source": [
    "# update\n",
    "li[0] = \"likta\"\n",
    "print(li)"
   ]
  },
  {
   "cell_type": "code",
   "execution_count": 3,
   "metadata": {},
   "outputs": [
    {
     "name": "stdout",
     "output_type": "stream",
     "text": [
      "['likta', 123, 124, 1323, 1245]\n"
     ]
    }
   ],
   "source": [
    "#delete\n",
    "del li[5]\n",
    "print(li)"
   ]
  },
  {
   "cell_type": "code",
   "execution_count": 6,
   "metadata": {},
   "outputs": [
    {
     "name": "stdout",
     "output_type": "stream",
     "text": [
      "6\n",
      "[1, 2, 3, 4, 5, 56, 1, 2, 3, 4, 5, 56]\n",
      "False\n",
      "True\n"
     ]
    }
   ],
   "source": [
    "li =[1,2,3,4,5,56]\n",
    "print(len(li))\n",
    "print(li*2)\n",
    "print(7 in li )\n",
    "print(5 in li)\n"
   ]
  },
  {
   "cell_type": "markdown",
   "metadata": {},
   "source": [
    "# Basic List functions\n"
   ]
  },
  {
   "cell_type": "code",
   "execution_count": 8,
   "metadata": {},
   "outputs": [
    {
     "name": "stdout",
     "output_type": "stream",
     "text": [
      "6\n",
      "1\n",
      "21\n",
      "3.5\n"
     ]
    }
   ],
   "source": [
    "li =[1,2,3,4,5,6]\n",
    "print(max(li))\n",
    "print(min(li))\n",
    "print(sum(li))\n",
    "print(sum(li)/len(li)) # Average"
   ]
  },
  {
   "cell_type": "code",
   "execution_count": 13,
   "metadata": {},
   "outputs": [
    {
     "name": "stdout",
     "output_type": "stream",
     "text": [
      "[1, 2, 3, 4, 5, 6, 29]\n",
      "[1, 2, 56, 3, 4, 5, 6, 29]\n"
     ]
    }
   ],
   "source": [
    "li=[1,2,3,4,5,6]\n",
    "li.append(29) # Add new item at of the list\n",
    "print(li)\n",
    "li.insert(2,56) # Add new item at specific index\n",
    "print(li)"
   ]
  },
  {
   "cell_type": "code",
   "execution_count": 14,
   "metadata": {},
   "outputs": [
    {
     "name": "stdout",
     "output_type": "stream",
     "text": [
      "[1, 2, 3, 4, 5, 6, 29, 56]\n",
      "[1, 2, 3, 4, 5, 6, 29]\n"
     ]
    },
    {
     "data": {
      "text/plain": [
       "[1, 3, 4, 5, 6, 29]"
      ]
     },
     "execution_count": 14,
     "metadata": {},
     "output_type": "execute_result"
    }
   ],
   "source": [
    "li =[1,2,56,3,4,5,6,29]\n",
    "li.sort()\n",
    "print(li)\n",
    "li.pop()\n",
    "print(li)\n",
    "li.pop(1)\n",
    "li"
   ]
  },
  {
   "cell_type": "code",
   "execution_count": 19,
   "metadata": {},
   "outputs": [
    {
     "name": "stdout",
     "output_type": "stream",
     "text": [
      "87\n",
      "32\n"
     ]
    }
   ],
   "source": [
    "# Function to return large number from list\n",
    "def largenumber(li):\n",
    "    li.sort()\n",
    "    return li[-1]\n",
    "def genericlarge(li,n):\n",
    "    li.sort()\n",
    "    return li[-n]\n",
    "li =[19,1,3,87,32,21,36]\n",
    "print(largenumber(li))\n",
    "print(genericlarge(li,3))"
   ]
  },
  {
   "cell_type": "code",
   "execution_count": 24,
   "metadata": {},
   "outputs": [
    {
     "name": "stdout",
     "output_type": "stream",
     "text": [
      "1\n",
      "19\n"
     ]
    }
   ],
   "source": [
    "def smallnumber(li):\n",
    "    li.sort()\n",
    "    return li[0]\n",
    "def genericsmall(li,n):\n",
    "    li.sort()\n",
    "    return li[n-1]\n",
    "li =[19,1,3,87,32,21,36]\n",
    "print(smallnumber(li))\n",
    "print(genericsmall(li,3))\n"
   ]
  },
  {
   "cell_type": "markdown",
   "metadata": {},
   "source": [
    "# Tuples\n",
    "- values seperated by commas enclosed by paranthesis ()\n",
    "- values cannot be changed i.e, immutable\n",
    "\n",
    "# Difference between list and tuple\n",
    "- list can be modified\n",
    "- list is used to access means modify,add,delete,update\n",
    "- tuples cannot be modified\n",
    "- tuples are used to access data only\n"
   ]
  },
  {
   "cell_type": "code",
   "execution_count": 25,
   "metadata": {},
   "outputs": [
    {
     "name": "stdout",
     "output_type": "stream",
     "text": [
      "(1, 2, 3, 4, 5)\n",
      "<class 'tuple'>\n"
     ]
    }
   ],
   "source": [
    "t1= (1,2,3,4,5)\n",
    "print(t1)\n",
    "print(type(t1))"
   ]
  },
  {
   "cell_type": "markdown",
   "metadata": {},
   "source": [
    "# Dictionaries:\n",
    "- works on concept of set unique data\n",
    "- dictionary conatains keys and values\n",
    "- each key seperated from its value with colon ':'\n",
    "- each key values seperated by comma\n",
    "- dictionary enclosed by { }\n"
   ]
  },
  {
   "cell_type": "code",
   "execution_count": 35,
   "metadata": {},
   "outputs": [
    {
     "name": "stdout",
     "output_type": "stream",
     "text": [
      "{'name': 'gitam', 'email': 'gitam@gmail.com', 'address': 'hyderabad'}\n"
     ]
    }
   ],
   "source": [
    "d1 = {\"name\":\"gitam\",\"email\":\"gitam@gmail.com\",\"address\":\"hyderabad\"}\n",
    "print(d1)"
   ]
  },
  {
   "cell_type": "code",
   "execution_count": 34,
   "metadata": {},
   "outputs": [
    {
     "data": {
      "text/plain": [
       "'gitam'"
      ]
     },
     "execution_count": 34,
     "metadata": {},
     "output_type": "execute_result"
    }
   ],
   "source": [
    "d1[\"name\"]"
   ]
  },
  {
   "cell_type": "code",
   "execution_count": 39,
   "metadata": {},
   "outputs": [
    {
     "name": "stdout",
     "output_type": "stream",
     "text": [
      "{'name': 'gitam', 'email': 'gitam@gmail.com', 'address': 'hyderabad'}\n",
      "{'name': 'gitam', 'email': 'python@gmail.com', 'address': 'hyderabad'}\n"
     ]
    }
   ],
   "source": [
    "d1 = {\"name\":\"gitam\",\"email\":\"gitam@gmail.com\",\"address\":\"hyderabad\"}\n",
    "print(d1)\n",
    "d1[\"email\"]=\"python@gmail.com\"\n",
    "print(d1)"
   ]
  },
  {
   "cell_type": "code",
   "execution_count": 41,
   "metadata": {},
   "outputs": [
    {
     "name": "stdout",
     "output_type": "stream",
     "text": [
      "{'name': 'gitam', 'email': 'gitam@gmail.com', 'address': 'hyderabad'}\n",
      "{'email': 'gitam@gmail.com', 'address': 'hyderabad'}\n"
     ]
    }
   ],
   "source": [
    "d1 = {\"name\":\"gitam\",\"email\":\"gitam@gmail.com\",\"address\":\"hyderabad\"}\n",
    "print(d1)\n",
    "del d1[\"name\"]\n",
    "print(d1)"
   ]
  },
  {
   "cell_type": "code",
   "execution_count": 48,
   "metadata": {},
   "outputs": [
    {
     "name": "stdout",
     "output_type": "stream",
     "text": [
      "{'name': 'gitam', 'email': 'gitam@gmail.com', 'address': 'hyderabad'}\n",
      "{'name': 'likta', 'email': 'gitam@gmail.com', 'address': 'hyderabad'}\n",
      "{'name': 'likta', 'email': 'gitam@gmail.com'}\n",
      "{'name': 'likta', 'email': 'gitam@gmail.com', 'course': 'python'}\n"
     ]
    }
   ],
   "source": [
    "d1 = {\"name\":\"gitam\",\"email\":\"gitam@gmail.com\",\"address\":\"hyderabad\"}\n",
    "print(d1)\n",
    "d1[\"name\"]=\"likta\"\n",
    "print(d1)\n",
    "del d1[\"address\"]\n",
    "print(d1)\n",
    "d1[\"course\"]=\"python\"\n",
    "print(d1)"
   ]
  },
  {
   "cell_type": "code",
   "execution_count": 49,
   "metadata": {},
   "outputs": [
    {
     "data": {
      "text/plain": [
       "dict_values(['likta', 'gitam@gmail.com', 'python'])"
      ]
     },
     "execution_count": 49,
     "metadata": {},
     "output_type": "execute_result"
    }
   ],
   "source": [
    "d1.values()"
   ]
  },
  {
   "cell_type": "code",
   "execution_count": 50,
   "metadata": {},
   "outputs": [
    {
     "data": {
      "text/plain": [
       "dict_items([('name', 'likta'), ('email', 'gitam@gmail.com'), ('course', 'python')])"
      ]
     },
     "execution_count": 50,
     "metadata": {},
     "output_type": "execute_result"
    }
   ],
   "source": [
    "d1.items()"
   ]
  },
  {
   "cell_type": "code",
   "execution_count": 51,
   "metadata": {},
   "outputs": [
    {
     "data": {
      "text/plain": [
       "dict_keys(['name', 'email', 'course'])"
      ]
     },
     "execution_count": 51,
     "metadata": {},
     "output_type": "execute_result"
    }
   ],
   "source": [
    "d1.keys()"
   ]
  },
  {
   "cell_type": "markdown",
   "metadata": {},
   "source": [
    "# Strings:\n"
   ]
  },
  {
   "cell_type": "code",
   "execution_count": 55,
   "metadata": {},
   "outputs": [
    {
     "name": "stdout",
     "output_type": "stream",
     "text": [
      "p\n",
      "n\n",
      "thon\n",
      "nohtyp\n",
      "nohtyp\n",
      "<class 'str'>\n"
     ]
    }
   ],
   "source": [
    "s1 = 'python'\n",
    "print(s1[0])\n",
    "print(s1[5])\n",
    "print(s1[2:])\n",
    "print(s1[::-1])\n",
    "print(s1[-1::-1])\n",
    "\n",
    "print(type(s1))"
   ]
  },
  {
   "cell_type": "code",
   "execution_count": 57,
   "metadata": {},
   "outputs": [
    {
     "name": "stdout",
     "output_type": "stream",
     "text": [
      "h\n",
      "ph\n"
     ]
    }
   ],
   "source": [
    "s1 = 'python'\n",
    "print(s1[len(s1)//2])\n",
    "print(s1[0:6:3])"
   ]
  },
  {
   "cell_type": "code",
   "execution_count": 63,
   "metadata": {},
   "outputs": [
    {
     "data": {
      "text/plain": [
       "'gnimmargorp'"
      ]
     },
     "execution_count": 63,
     "metadata": {},
     "output_type": "execute_result"
    }
   ],
   "source": [
    "# using function reverse of string\n",
    "def reverseofstring(str):\n",
    "    return(str[::-1])\n",
    "    \n",
    "reverseofstring(\"programming\")"
   ]
  },
  {
   "cell_type": "code",
   "execution_count": 2,
   "metadata": {},
   "outputs": [
    {
     "name": "stdout",
     "output_type": "stream",
     "text": [
      "enter a string:\n",
      "mom\n",
      "True\n"
     ]
    }
   ],
   "source": [
    "# Check whether the given string was palindrome or not\n",
    "str=input(\"enter a string:\\n\")\n",
    "def palindrome(str):\n",
    "    if str==str[::-1]:\n",
    "        return True\n",
    "    else:\n",
    "        return False\n",
    "print(palindrome(\"mom\"))"
   ]
  },
  {
   "cell_type": "markdown",
   "metadata": {},
   "source": [
    "# String build in methods:\n",
    "- upper()\n",
    "- lower()\n",
    "- islower()\n",
    "- isupper()\n",
    "- istitle()\n",
    "- isnumeric()\n",
    "- isalpha()\n",
    "- isspace()"
   ]
  },
  {
   "cell_type": "code",
   "execution_count": 12,
   "metadata": {},
   "outputs": [
    {
     "name": "stdout",
     "output_type": "stream",
     "text": [
      "LIKTA\n",
      "likta\n",
      "False\n",
      "True\n",
      "False\n",
      "False\n",
      "True\n",
      "False\n"
     ]
    }
   ],
   "source": [
    "s1=\"likta\"\n",
    "print(s1.upper())\n",
    "print(s1.lower())\n",
    "print(s1.isupper())\n",
    "print(s1.islower())\n",
    "print(s1.istitle())\n",
    "print(s1.isnumeric())\n",
    "print(s1.isalpha())\n",
    "print(s1.isspace())"
   ]
  },
  {
   "cell_type": "markdown",
   "metadata": {},
   "source": [
    "# String methods\n",
    "- join()\n",
    "- split()\n",
    "- replace()"
   ]
  },
  {
   "cell_type": "code",
   "execution_count": 23,
   "metadata": {},
   "outputs": [
    {
     "name": "stdout",
     "output_type": "stream",
     "text": [
      "p.y.t.h.o.n. .i.s. .e.a.s.y\n",
      "['python is easy']\n"
     ]
    }
   ],
   "source": [
    "s1 = 'python is easy'\n",
    "print(\".\".join(s1))\n",
    "print(s1.split('.'))"
   ]
  },
  {
   "cell_type": "code",
   "execution_count": 26,
   "metadata": {},
   "outputs": [
    {
     "data": {
      "text/plain": [
       "['p', 'y', 't', 'h', 'o', 'n', ' ', 'i', 's', ' ', 'e', 'a', 's', 'y']"
      ]
     },
     "execution_count": 26,
     "metadata": {},
     "output_type": "execute_result"
    }
   ],
   "source": [
    "s1=\"python is easy\"\n",
    "li=list(s1)\n",
    "li"
   ]
  },
  {
   "cell_type": "code",
   "execution_count": 40,
   "metadata": {},
   "outputs": [
    {
     "name": "stdout",
     "output_type": "stream",
     "text": [
      "python is very easy to learn\n"
     ]
    }
   ],
   "source": [
    "s1=\"python is easy to learn\"\n",
    "print(s1.replace(\"easy\",\"very easy\"))"
   ]
  },
  {
   "cell_type": "code",
   "execution_count": 44,
   "metadata": {},
   "outputs": [
    {
     "name": "stdout",
     "output_type": "stream",
     "text": [
      "{'80,85,90'}\n"
     ]
    }
   ],
   "source": [
    "s1={\"80,85,90\"}\n",
    "s2={\"86,90,95\"}\n",
    "print(s1)\n"
   ]
  },
  {
   "cell_type": "code",
   "execution_count": 60,
   "metadata": {},
   "outputs": [
    {
     "data": {
      "text/plain": [
       "85"
      ]
     },
     "execution_count": 60,
     "metadata": {},
     "output_type": "execute_result"
    }
   ],
   "source": [
    "d1={'peter':[80,85,90],'joe':[86,90,95]}\n",
    "d1[\"peter\"]\n",
    "li=d1[\"peter\"]\n",
    "li[1]"
   ]
  },
  {
   "cell_type": "code",
   "execution_count": 62,
   "metadata": {},
   "outputs": [
    {
     "data": {
      "text/plain": [
       "86"
      ]
     },
     "execution_count": 62,
     "metadata": {},
     "output_type": "execute_result"
    }
   ],
   "source": [
    "li=d1[\"joe\"]\n",
    "li[0]"
   ]
  },
  {
   "cell_type": "code",
   "execution_count": null,
   "metadata": {},
   "outputs": [],
   "source": []
  }
 ],
 "metadata": {
  "kernelspec": {
   "display_name": "Python 3",
   "language": "python",
   "name": "python3"
  },
  "language_info": {
   "codemirror_mode": {
    "name": "ipython",
    "version": 3
   },
   "file_extension": ".py",
   "mimetype": "text/x-python",
   "name": "python",
   "nbconvert_exporter": "python",
   "pygments_lexer": "ipython3",
   "version": "3.7.0"
  }
 },
 "nbformat": 4,
 "nbformat_minor": 2
}
